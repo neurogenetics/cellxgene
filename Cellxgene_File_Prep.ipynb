{
 "cells": [
  {
   "cell_type": "markdown",
   "metadata": {},
   "source": [
    "# Convert .Rdata files to .h5ad for viewing single cell data in cellxgene\n",
    "code by Michelle Webb and Frank Grenn\n",
    "\n",
    "[cellxgene](https://chanzuckerberg.github.io/cellxgene/)\n",
    "\n",
    "our [FOUNDINPD github](https://github.com/FOUNDINPD/cellxgene-testing) with the cellxgene file conversion scripts"
   ]
  },
  {
   "cell_type": "code",
   "execution_count": 2,
   "metadata": {},
   "outputs": [],
   "source": [
    "BIOWULF_DIR=\"/directory/with/data/files\"\n",
    "SCRIPT_DIR=\"/directory/for/scripts\"\n",
    "RDATA_FILENAME=\"FC_Set21_integrated_clustered\""
   ]
  },
  {
   "cell_type": "markdown",
   "metadata": {},
   "source": [
    "## (1) Convert the .Rdata file to an .rds file"
   ]
  },
  {
   "cell_type": "markdown",
   "metadata": {},
   "source": [
    "load the .Rdata file and list its object(s)\n",
    "\n"
   ]
  },
  {
   "cell_type": "code",
   "execution_count": 3,
   "metadata": {},
   "outputs": [
    {
     "name": "stdout",
     "output_type": "stream",
     "text": [
      "module load R\n",
      "R\n",
      "load('/directory/with/data/files/FC_Set21_integrated_clustered.Rdata', verbose=TRUE)\n",
      "ls()\n"
     ]
    }
   ],
   "source": [
    "print(\"module load R\")\n",
    "print(\"R\")\n",
    "print(\"load('{}/{}.Rdata', verbose=TRUE)\".format(BIOWULF_DIR,RDATA_FILENAME))\n",
    "print(\"ls()\")"
   ]
  },
  {
   "cell_type": "markdown",
   "metadata": {},
   "source": [
    "run ```head()``` on object printed by ```ls()```  (```frontal.integrated``` in this case)"
   ]
  },
  {
   "cell_type": "code",
   "execution_count": 4,
   "metadata": {},
   "outputs": [
    {
     "name": "stdout",
     "output_type": "stream",
     "text": [
      "head(frontal.integrated)\n",
      "saveRDS(frontal.integrated, '/directory/with/data/files/FC_Set21_integrated_clustered.rds')\n"
     ]
    }
   ],
   "source": [
    "print(\"head(frontal.integrated)\")\n",
    "print(\"saveRDS(frontal.integrated, '{}/{}.rds')\".format(BIOWULF_DIR,RDATA_FILENAME))"
   ]
  },
  {
   "cell_type": "markdown",
   "metadata": {},
   "source": [
    "## (2) Script to convert .rds to .loom"
   ]
  },
  {
   "cell_type": "markdown",
   "metadata": {},
   "source": [
    "may need to install newer versions of ```Seurat``` and ```loomR``` libraries"
   ]
  },
  {
   "cell_type": "markdown",
   "metadata": {},
   "source": [
    "### download updated R libraries on biowulf\n",
    "https://hpc.nih.gov/apps/R.html"
   ]
  },
  {
   "cell_type": "code",
   "execution_count": 7,
   "metadata": {},
   "outputs": [],
   "source": [
    "with open (\"{}/seuratToLoom.R\".format(SCRIPT_DIR), \"w\") as text_file:\n",
    "    print(\"library(Seurat) \\n\\\n",
    "library(loomR) \\n\\\n",
    "integratedData <- readRDS('{}/{}.rds') \\n\\\n",
    "DefaultAssay(integratedData) <- 'integrated' \\n\\\n",
    "integratedData.loom <- as.loom(integratedData, filename='{}/{}.loom') \\n\\\n",
    "integratedData.loom$close_all()\".format(BIOWULF_DIR, RDATA_FILENAME, BIOWULF_DIR, RDATA_FILENAME), file = text_file)\n",
    "    text_file.close()"
   ]
  },
  {
   "cell_type": "markdown",
   "metadata": {},
   "source": [
    "## (3) Script to convert .loom to .h5ad\n",
    "may need to install python loompy and scanpy packages"
   ]
  },
  {
   "cell_type": "markdown",
   "metadata": {},
   "source": [
    "### (a) create custom python conda environment if you don't have loompy and scanpy setup"
   ]
  },
  {
   "cell_type": "code",
   "execution_count": 8,
   "metadata": {},
   "outputs": [
    {
     "name": "stdout",
     "output_type": "stream",
     "text": [
      "cd /data/$USER\n",
      "mkdir -p temp\n",
      "cd temp\n"
     ]
    }
   ],
   "source": [
    "print(\"cd /data/$USER\")\n",
    "print(\"mkdir -p temp\")\n",
    "print(\"cd temp\")"
   ]
  },
  {
   "cell_type": "code",
   "execution_count": 7,
   "metadata": {},
   "outputs": [
    {
     "name": "stdout",
     "output_type": "stream",
     "text": [
      "wget https://repo.anaconda.com/miniconda/Miniconda3-latest-Linux-x86_64.sh\n"
     ]
    }
   ],
   "source": [
    "print(\"wget https://repo.anaconda.com/miniconda/Miniconda3-latest-Linux-x86_64.sh\")"
   ]
  },
  {
   "cell_type": "code",
   "execution_count": 8,
   "metadata": {},
   "outputs": [
    {
     "name": "stdout",
     "output_type": "stream",
     "text": [
      "mkdir tmp\n",
      "TMPDIR=$PWD/tmp bash Miniconda3-latest-Linux-x86_64.sh -p /data/$USER/conda -b\n"
     ]
    }
   ],
   "source": [
    "print(\"mkdir tmp\")\n",
    "print(\"TMPDIR=$PWD/tmp bash Miniconda3-latest-Linux-x86_64.sh -p /data/$USER/conda -b\")"
   ]
  },
  {
   "cell_type": "code",
   "execution_count": 9,
   "metadata": {},
   "outputs": [
    {
     "name": "stdout",
     "output_type": "stream",
     "text": [
      "source /data/$USER/conda/etc/profile.d/conda.sh\n",
      "conda activate base\n",
      "which python\n",
      "conda update conda\n",
      "conda clean --all --yes\n"
     ]
    }
   ],
   "source": [
    "print(\"source /data/$USER/conda/etc/profile.d/conda.sh\")\n",
    "print(\"conda activate base\")\n",
    "print(\"which python\")\n",
    "print(\"conda update conda\")\n",
    "print(\"conda clean --all --yes\")"
   ]
  },
  {
   "cell_type": "code",
   "execution_count": 10,
   "metadata": {},
   "outputs": [
    {
     "name": "stdout",
     "output_type": "stream",
     "text": [
      "conda create -n project1 python=3.7 numpy scipy\n"
     ]
    }
   ],
   "source": [
    "print(\"conda create -n project1 python=3.7 numpy scipy\")"
   ]
  },
  {
   "cell_type": "code",
   "execution_count": 24,
   "metadata": {},
   "outputs": [
    {
     "name": "stdout",
     "output_type": "stream",
     "text": [
      "conda activate project1\n",
      "which pip\n",
      "pip install loompy\n",
      "pip install scanpy\n",
      "pip install cellxgene\n",
      "pip install cellxgene[prepare]\n"
     ]
    }
   ],
   "source": [
    "print(\"conda activate project1\")\n",
    "print(\"which pip\")\n",
    "print(\"pip install loompy\")\n",
    "print(\"pip install scanpy\")\n",
    "print(\"pip install cellxgene\")\n",
    "print(\"pip install cellxgene[prepare]\")"
   ]
  },
  {
   "cell_type": "code",
   "execution_count": 12,
   "metadata": {},
   "outputs": [
    {
     "name": "stdout",
     "output_type": "stream",
     "text": [
      "conda deactivate\n"
     ]
    }
   ],
   "source": [
    "print(\"conda deactivate\")"
   ]
  },
  {
   "cell_type": "markdown",
   "metadata": {},
   "source": [
    "### (b) write the script"
   ]
  },
  {
   "cell_type": "markdown",
   "metadata": {},
   "source": [
    "need to rename fields in data.obsm to match cellxgene conventions:\n",
    "\n",
    "like ```pca_cell_embeddings``` to ```X_pca``` for cellxgene\n",
    "\n",
    "same for ```X_umap``` and ```X_tsne```"
   ]
  },
  {
   "cell_type": "code",
   "execution_count": 9,
   "metadata": {},
   "outputs": [],
   "source": [
    "with open (\"{}/create_h5ad.py\".format(SCRIPT_DIR), \"w\") as text_file:\n",
    "    print(\"import scanpy as sc \\n\\\n",
    "import pandas as pd \\n\\\n",
    "results_file = '{}/{}.h5ad' \\n\\\n",
    "data = sc.read_loom('{}/{}.loom') \\n\\\n",
    "# Rename seurat embeddings to match cellxgene convention \\n\\\n",
    "data.obsm['X_pca'] = data.obsm.pop('pca_cell_embeddings') \\n\\\n",
    "data.obsm['X_umap'] = data.obsm.pop('umap_cell_embeddings') \\n\\\n",
    "data.write(results_file)\".format(BIOWULF_DIR, RDATA_FILENAME, BIOWULF_DIR, RDATA_FILENAME), file = text_file)\n",
    "    text_file.close()"
   ]
  },
  {
   "cell_type": "markdown",
   "metadata": {},
   "source": [
    "## (4) Run scripts from (2) and (3) to convert the .rds to .h5ad"
   ]
  },
  {
   "cell_type": "code",
   "execution_count": null,
   "metadata": {},
   "outputs": [],
   "source": []
  },
  {
   "cell_type": "code",
   "execution_count": 10,
   "metadata": {},
   "outputs": [],
   "source": [
    "with open (\"{}/rds_to_h5ad.sh\".format(SCRIPT_DIR), \"w\") as text_file:\n",
    "    print(\"#!/bin/bash \\n\\\n",
    "module load R \\n\\\n",
    "echo 'seurat to loom' \\n\\\n",
    "Rscript {}/seuratToLoom.R \\n\\\n",
    "source /data/grennfp/conda/etc/profile.d/conda.sh \\n\\\n",
    "module load python/3.7 \\n\\\n",
    "conda activate project1 \\n\\\n",
    "echo 'loom to h5ad' \\n\\\n",
    "python {}/create_h5ad.py \\n\\\n",
    "echo 'done'\".format(SCRIPT_DIR, SCRIPT_DIR), file = text_file)\n",
    "    text_file.close()"
   ]
  },
  {
   "cell_type": "markdown",
   "metadata": {},
   "source": [
    "run the script (may take a few hours)"
   ]
  },
  {
   "cell_type": "code",
   "execution_count": 5,
   "metadata": {},
   "outputs": [
    {
     "name": "stdout",
     "output_type": "stream",
     "text": [
      "sbatch --mem=100g --cpus-per-task=10 --mail-type=ALL --time=24:00:00 /directory/for/scripts/rds_to_h5ad.sh\n"
     ]
    }
   ],
   "source": [
    "print(\"sbatch --mem=100g --cpus-per-task=10 --mail-type=ALL --time=24:00:00 {}/rds_to_h5ad.sh\".format(SCRIPT_DIR))"
   ]
  },
  {
   "cell_type": "markdown",
   "metadata": {},
   "source": [
    "## (5) Load the .h5ad into cellxgene\n",
    "run all of this locally"
   ]
  },
  {
   "cell_type": "code",
   "execution_count": 6,
   "metadata": {},
   "outputs": [],
   "source": [
    "LOCAL_DIR=\"/local/directory/with/h5ad/files\""
   ]
  },
  {
   "cell_type": "markdown",
   "metadata": {},
   "source": [
    "#### (a) pull the .h5ad down from biowulf"
   ]
  },
  {
   "cell_type": "code",
   "execution_count": 7,
   "metadata": {},
   "outputs": [
    {
     "name": "stdout",
     "output_type": "stream",
     "text": [
      "scp helix.nih.gov:/directory/with/data/files/FC_Set21_integrated_clustered.h5ad /local/directory/with/h5ad/files\n"
     ]
    }
   ],
   "source": [
    "print(\"scp helix.nih.gov:{}/{}.h5ad {}\".format(BIOWULF_DIR, RDATA_FILENAME, LOCAL_DIR))"
   ]
  },
  {
   "cell_type": "markdown",
   "metadata": {},
   "source": [
    "#### (b) install cellxgene locally if not done already"
   ]
  },
  {
   "cell_type": "code",
   "execution_count": 24,
   "metadata": {},
   "outputs": [
    {
     "name": "stdout",
     "output_type": "stream",
     "text": [
      "pip install cellxgene\n"
     ]
    }
   ],
   "source": [
    "print(\"pip install cellxgene\")"
   ]
  },
  {
   "cell_type": "markdown",
   "metadata": {},
   "source": [
    "#### (c) run cellxgene"
   ]
  },
  {
   "cell_type": "code",
   "execution_count": 8,
   "metadata": {},
   "outputs": [
    {
     "name": "stdout",
     "output_type": "stream",
     "text": [
      "cellxgene launch /local/directory/with/h5ad/files/FC_Set21_integrated_clustered.h5ad --open\n"
     ]
    }
   ],
   "source": [
    "print(\"cellxgene launch {}/{}.h5ad --open\".format(LOCAL_DIR, RDATA_FILENAME))"
   ]
  },
  {
   "cell_type": "markdown",
   "metadata": {},
   "source": [
    "## (6) Other"
   ]
  },
  {
   "cell_type": "markdown",
   "metadata": {},
   "source": [
    "### to load and view the .h5ad file in python"
   ]
  },
  {
   "cell_type": "code",
   "execution_count": 2,
   "metadata": {},
   "outputs": [
    {
     "name": "stdout",
     "output_type": "stream",
     "text": [
      "import anndata\n",
      "data=anndata.read_h5ad('/path/to/file.h5ad')\n",
      "data\n"
     ]
    }
   ],
   "source": [
    "print(\"import anndata\")\n",
    "print(\"data=anndata.read_h5ad('/path/to/file.h5ad')\")\n",
    "print(\"data\")"
   ]
  },
  {
   "cell_type": "markdown",
   "metadata": {},
   "source": [
    "### write the .h5ad file"
   ]
  },
  {
   "cell_type": "code",
   "execution_count": 3,
   "metadata": {},
   "outputs": [
    {
     "name": "stdout",
     "output_type": "stream",
     "text": [
      "data.write('/path/to/newfile.h5ad')\n"
     ]
    }
   ],
   "source": [
    "print(\"data.write('/path/to/newfile.h5ad')\")"
   ]
  },
  {
   "cell_type": "code",
   "execution_count": null,
   "metadata": {},
   "outputs": [],
   "source": []
  }
 ],
 "metadata": {
  "kernelspec": {
   "display_name": "Python 3",
   "language": "python",
   "name": "python3"
  },
  "language_info": {
   "codemirror_mode": {
    "name": "ipython",
    "version": 3
   },
   "file_extension": ".py",
   "mimetype": "text/x-python",
   "name": "python",
   "nbconvert_exporter": "python",
   "pygments_lexer": "ipython3",
   "version": "3.6.7"
  }
 },
 "nbformat": 4,
 "nbformat_minor": 4
}
